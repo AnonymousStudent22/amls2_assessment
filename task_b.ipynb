{
  "cells": [
    {
      "cell_type": "markdown",
      "metadata": {
        "id": "view-in-github",
        "colab_type": "text"
      },
      "source": [
        "<a href=\"https://colab.research.google.com/github/AnonymousStudent22/amls2_assessment/blob/main/task_b.ipynb\" target=\"_parent\"><img src=\"https://colab.research.google.com/assets/colab-badge.svg\" alt=\"Open In Colab\"/></a>"
      ]
    },
    {
      "cell_type": "code",
      "execution_count": 1,
      "metadata": {
        "id": "cDB97SF3_zlq"
      },
      "outputs": [],
      "source": [
        "import pandas as pd\n",
        "import numpy as np\n",
        "import nltk\n",
        "import re\n",
        "import gensim\n",
        "from textblob import TextBlob\n",
        "from gensim.parsing.preprocessing import remove_stopwords, STOPWORDS\n",
        "\n",
        "from sklearn.feature_extraction.text import CountVectorizer\n",
        "from sklearn.model_selection import train_test_split\n",
        "from sklearn.preprocessing import LabelEncoder\n",
        "from sklearn.utils import shuffle\n",
        "from sklearn.metrics import classification_report\n",
        "\n",
        "import tensorflow #tensorflow 2.8.0 (with Python 3.7.13)\n",
        "from keras.preprocessing.text import Tokenizer\n",
        "from keras.preprocessing.sequence import pad_sequences\n",
        "from tensorflow.keras.optimizers import Adam\n",
        "from keras import layers\n",
        "from keras import callbacks\n",
        "from keras.callbacks import ModelCheckpoint, ReduceLROnPlateau, EarlyStopping\n",
        "from keras.layers import Conv1D, Bidirectional, LSTM, Dense, Input, Dropout\n",
        "from keras.layers import SpatialDropout1D\n",
        "from keras.models import Model\n",
        "from keras import metrics\n",
        "\n",
        "\n",
        "from wordcloud import WordCloud\n",
        "import seaborn as sns\n",
        "import pprint\n",
        "import matplotlib.pyplot as plt; plt.rcdefaults()\n"
      ]
    },
    {
      "cell_type": "code",
      "execution_count": 2,
      "metadata": {
        "colab": {
          "base_uri": "https://localhost:8080/"
        },
        "id": "et3ZQRxJ-t8F",
        "outputId": "fb3f534f-5aa3-44e8-de19-e9be6ac2bee7"
      },
      "outputs": [
        {
          "output_type": "stream",
          "name": "stdout",
          "text": [
            "First 5 rows of dataset\n",
            "         topic sentiment                                              tweet\n",
            "0  amy schumer  negative  @MargaretsBelly Amy Schumer is the stereotypic...\n",
            "1  amy schumer  negative  @dani_pitter I mean I get the hype around JLaw...\n",
            "2  amy schumer  negative  Amy Schumer at the #GQmenoftheyear2015 party i...\n",
            "3  amy schumer  negative  Amy Schumer is on Sky Atlantic doing one of th...\n",
            "4  amy schumer  negative  Amy Schumer may have brought us Trainwreck, bu...\n",
            "10551\n"
          ]
        }
      ],
      "source": [
        "\n",
        "dataset = pd.read_csv('Datasets/SemEval2017-task4-dev.subtask-BD.english.INPUT.txt', \n",
        "                       sep='\\t',header=None )\n",
        "dataset.columns = ['id','topic','sentiment','tweet','unknown']\n",
        "dataset = dataset.drop(['unknown'], axis=1)\n",
        "\n",
        "\n",
        "dataset = dataset.drop(['id'], axis=1) # dropped id \n",
        "\n",
        "print(\"First 5 rows of dataset\")\n",
        "print(dataset.head(5))\n",
        "\n",
        "print(len(dataset))\n"
      ]
    },
    {
      "cell_type": "code",
      "execution_count": 3,
      "metadata": {
        "colab": {
          "base_uri": "https://localhost:8080/",
          "height": 407
        },
        "id": "1_RO6qqBBSOX",
        "outputId": "42e2af2f-aa59-4693-d6c8-a38fd262ca8f"
      },
      "outputs": [
        {
          "output_type": "execute_result",
          "data": {
            "text/plain": [
              "Text(0.5, 1.0, 'Distribution of Sentiments')"
            ]
          },
          "metadata": {},
          "execution_count": 3
        },
        {
          "output_type": "display_data",
          "data": {
            "text/plain": [
              "<Figure size 720x432 with 1 Axes>"
            ],
            "image/png": "[encoded data removed]"
          },
          "metadata": {
            "needs_background": "light"
          }
        }
      ],
      "source": [
        "distribution = dataset.sentiment.value_counts() # value_counts() is a pandas function\n",
        "plt.figure(figsize=(10,6))\n",
        "plt.bar(distribution.index, distribution.values)\n",
        "plt.title('Distribution of Sentiments')\n"
      ]
    },
    {
      "cell_type": "code",
      "execution_count": 4,
      "metadata": {
        "colab": {
          "base_uri": "https://localhost:8080/"
        },
        "id": "Y6aRFCZdMuor",
        "outputId": "b12940b7-2794-493a-e5e5-4853746fb524"
      },
      "outputs": [
        {
          "output_type": "stream",
          "name": "stdout",
          "text": [
            "[nltk_data] Downloading package punkt to /root/nltk_data...\n",
            "[nltk_data]   Package punkt is already up-to-date!\n",
            "[nltk_data] Downloading package averaged_perceptron_tagger to\n",
            "[nltk_data]     /root/nltk_data...\n",
            "[nltk_data]   Package averaged_perceptron_tagger is already up-to-\n",
            "[nltk_data]       date!\n",
            "[nltk_data] Downloading package wordnet to /root/nltk_data...\n",
            "[nltk_data]   Package wordnet is already up-to-date!\n"
          ]
        }
      ],
      "source": [
        "# Convert to lowercase, remove punctuation, noise, such as non-alphanumeric characters, \n",
        "# urls, and double white spaces. Remove stopwords\n",
        "\n",
        "# Downloads needed when running script on browser\n",
        "nltk.download('punkt') \n",
        "nltk.download('averaged_perceptron_tagger') \n",
        "nltk.download('wordnet')\n",
        "\n",
        "def preprocess(tweet): \n",
        "    \n",
        "    tweet = re.sub(r\"[Ww]on't\",\"willn't\", str(tweet))# 1st step to expand \"won't\"\n",
        "    tweet = re.sub(r\"n't\",' not', str(tweet)) # expand negative contractions\n",
        "    tweet = re.sub(r\"'ve\",' have', str(tweet)) # expand \"have\" contractions\n",
        "    tweet = re.sub(r\"'s\",'s' , str(tweet)) # remove apotrophe in possessives, but keep 's'\n",
        "    tweet = re.sub(r\"(@\\S+|#\\S+)\",' ',str(tweet)) #remove hashtags and users: @ and #\n",
        "    tweet = re.sub(r\"\\s\\s+\",' ',str(tweet)) # replace more than two spaces with one\n",
        "    tweet = re.sub(r\"([^a-zA-z0-9]+|https?:\\S+)\",' ',str(tweet).lower()).strip() #remove urls\n",
        "    \n",
        "    sent = TextBlob(tweet) # lemmatize text\n",
        "    tag_dict = {\"JJ\": 'a', \n",
        "                \"NN\": 'n', \n",
        "                \"V\":  'v', \n",
        "                \"R\":  'r'}\n",
        "    words_and_tags = [(w, tag_dict.get(pos[0], 'a')) for w, pos in sent.tags]    \n",
        "    lemmatized_list = [wd.lemmatize(tag) for wd, tag in words_and_tags]\n",
        "    tweet =  \" \".join(lemmatized_list)\n",
        "    tweet = remove_stopwords(tweet) # remove stopwords (to be done after lemmatizing)\n",
        "\n",
        "\n",
        "    \n",
        "    return tweet\n",
        "\n",
        "# Use lambda to run preprocess function on each row of the dataset tweets\n",
        "dataset.tweet = dataset.tweet.apply(lambda x: preprocess(x))\n",
        "\n",
        "\n"
      ]
    },
    {
      "cell_type": "code",
      "execution_count": 5,
      "metadata": {
        "colab": {
          "base_uri": "https://localhost:8080/"
        },
        "id": "KuC6cAeBbCt3",
        "outputId": "e1df0b85-d3e2-4558-e9d7-8b47445bb98c"
      },
      "outputs": [
        {
          "output_type": "stream",
          "name": "stdout",
          "text": [
            "Tweets after preprocessing\n",
            "0    amy schumer stereotypical 1st world laci green...\n",
            "1    mean hype jlaw like hype understand amy schume...\n",
            "2                  amy schumer party dress pretty hate\n",
            "3    amy schumer sky atlantic bad stand sets sit 30...\n",
            "4           amy schumer bring trainwreck word redefine\n",
            "Name: tweet, dtype: object\n"
          ]
        }
      ],
      "source": [
        "print('Tweets after preprocessing')\n",
        "print(dataset['tweet'].head(5))"
      ]
    },
    {
      "cell_type": "code",
      "execution_count": 6,
      "metadata": {
        "colab": {
          "base_uri": "https://localhost:8080/",
          "height": 437
        },
        "id": "vZ7uvstwBYoF",
        "outputId": "ada65c9b-8ba8-44f8-b6c4-25fc5f769193"
      },
      "outputs": [
        {
          "output_type": "display_data",
          "data": {
            "text/plain": [
              "<Figure size 432x288 with 1 Axes>"
            ],
            "image/png": "[encoded data removed]"
          },
          "metadata": {
            "needs_background": "light"
          }
        },
        {
          "output_type": "execute_result",
          "data": {
            "text/plain": [
              "count    10551.000000\n",
              "mean        59.884940\n",
              "std         18.461556\n",
              "min          5.000000\n",
              "25%         47.000000\n",
              "50%         60.000000\n",
              "75%         73.000000\n",
              "max        120.000000\n",
              "dtype: float64"
            ]
          },
          "metadata": {},
          "execution_count": 6
        }
      ],
      "source": [
        "tweet_lengths = []\n",
        "for index, row in dataset.iterrows():\n",
        "    tweet_lengths.append(len(row['tweet']))\n",
        "pd.Series(tweet_lengths).hist()\n",
        "plt.title('Distribution of Tweet Lengths')\n",
        "plt.show()\n",
        "pd.Series(tweet_lengths).describe()\n",
        "\n"
      ]
    },
    {
      "cell_type": "code",
      "execution_count": 7,
      "metadata": {
        "colab": {
          "base_uri": "https://localhost:8080/",
          "height": 645
        },
        "id": "PKCcN6w3IPcz",
        "outputId": "dec91e58-1d89-4ce6-eaa6-f4749a18d00e"
      },
      "outputs": [
        {
          "output_type": "stream",
          "name": "stdout",
          "text": [
            "100\n",
            "{'ant-man', 'jason aldean', 'dana white', 'zac brown band', 'thor', 'sam smith', 'bee gees', 'saudi arabia', 'dunkin', 'red sox', 'rahul gandhi', 'boko haram', 'seth rollins', 'yakub', 'rousey', 'calibraska', 'national ice cream day', 'yoga', 'prince george', 'chris evans', 'dustin johnson', 'ira', 'justin bieber', 'islam', 'milan', 'sharknado', 'big brother', 'kim kardashian', 'ed sheeran', 'gay', 'frank ocean', 'rolling stone', 'kanye west', 'katy perry', 'bad blood', 'david bowie', 'george harrison', 'kendrick lamar', 'john kasich', 'moto g', 'hulk hogan', 'foo fighters', 'scott walker', 'murray', 'ryan braun', 'charlie hebdo', 'zayn', 'nirvana', 'david wright', 'ice cube', 'floyd mayweather', 'dean ambrose', 'u2', 'watchman', 'real madrid', 'christians', 'miss usa', 'twilight', 'lady gaga', 'paper towns', 'frank gifford', 'gucci', 'brock lesnar', 'super eagles', 'national hot dog day', 'tony blair', 'kendrick', 'kris bryant', 'white sox', 'paul dunne', 'randy orton', 'iran', 'ps4', 'israel', 'chuck norris', 'iron maiden', 'briana', 'star wars day', 'dark souls', 'josh hamilton', 'niall', 'muslims', 'naruto', 'john cena', 'george osborne', 'tom brady', 'paul mccartney', 'the vamps', 'cate blanchett', 'eid', 'kpop', 'curtis', 'nicki', 'carly fiorina', 'kane', 'amy schumer', 'janet jackson', 'shawn', 'caitlyn jenner', 'david price'}\n"
          ]
        },
        {
          "output_type": "display_data",
          "data": {
            "text/plain": [
              "<Figure size 1080x576 with 1 Axes>"
            ],
            "image/png": "[encoded data removed]"
          },
          "metadata": {
            "needs_background": "light"
          }
        }
      ],
      "source": [
        "topics = dataset['topic'].value_counts() # topics is a pandas series (not df)\n",
        "#topics.plot(kind='bar',figsize=(15,8)) # see original count of topics\n",
        "\n",
        "# Gather topics with count 100 and up\n",
        "topics2=[]\n",
        "for index, value in topics.items():\n",
        "  if value>99:\n",
        "    #print(f\"Index : {index}, Value : {value}\")\n",
        "    temp = index,value\n",
        "    topics2.append(temp)\n",
        "\n",
        "topics2 = pd.DataFrame(topics2, columns =['topic', 'count']) # convert into df\n",
        "topics2.plot(x=\"topic\", y=[\"count\"], kind=\"bar\",figsize=(15,8))\n",
        "plt.title(\"Topics with Count Greater than 100\")\n",
        "topics2.count()  # showing top topics\n",
        "\n",
        "#topics = topics.to_dict()\n",
        "#print(type(topics))\n",
        "#print(len(topics))\n",
        "set_topics=set(dataset['topic'])\n",
        "print(len(set_topics))\n",
        "print(set_topics)"
      ]
    },
    {
      "cell_type": "code",
      "execution_count": 8,
      "metadata": {
        "id": "pMlvzh_RLA93"
      },
      "outputs": [],
      "source": [
        "#Encode sentiment labels negative=0,positive=1\n",
        "sentiment_label=LabelEncoder()\n",
        "dataset['sentiment'] = sentiment_label.fit_transform(dataset['sentiment'])\n",
        "\n"
      ]
    },
    {
      "cell_type": "markdown",
      "metadata": {
        "id": "oDkNfCiSOa5V"
      },
      "source": [
        "### Create Word Index and Embeddings\n"
      ]
    },
    {
      "cell_type": "code",
      "execution_count": 9,
      "metadata": {
        "id": "3aON54pHOZxX"
      },
      "outputs": [],
      "source": [
        "\n",
        "\n",
        "def build_word_index(data):\n",
        "    tokenizer = Tokenizer()\n",
        "    tokenizer.fit_on_texts(data)\n",
        "    word_index = tokenizer.word_index # dictionary mapping each word to an integer\n",
        "    \n",
        "    return word_index\n",
        "  \n",
        "\n",
        "word_to_int= build_word_index(dataset.tweet) # dictionary for tweets\n",
        "word_to_int2= build_word_index(dataset.topic) # dictionary for topics\n",
        "\n",
        "\n",
        "\n",
        "    "
      ]
    },
    {
      "cell_type": "code",
      "execution_count": 10,
      "metadata": {
        "colab": {
          "base_uri": "https://localhost:8080/"
        },
        "id": "9bcwr-lDOk36",
        "outputId": "8185f70e-2707-44a4-c616-487c0e4637d6"
      },
      "outputs": [
        {
          "output_type": "stream",
          "name": "stdout",
          "text": [
            "Found 344175 word vectors.\n",
            "Found 346186 word vectors.\n"
          ]
        }
      ],
      "source": [
        "def build_embeddings(word_dict):\n",
        "    embeddings_dict = {}\n",
        "    # Open the glove embeddings text file\n",
        "    file = open('Datasets/glove.6B.300d.txt')\n",
        "    for line in file:\n",
        "        # Read in each line, split words add to a list\n",
        "        values = line.split()\n",
        "        word = values[0]\n",
        "        vector = np.asarray(values[1:], dtype='float32')\n",
        "        embeddings_dict[word] = vector\n",
        "    file.close()\n",
        "    print('Found %s word vectors.' %len(embeddings_dict))\n",
        "    \n",
        "    vocab_size = len(word_dict) + 1\n",
        "    # creating a matrix with zeroes of shape vocab x embedding dimension\n",
        "    embedding_matrix = np.zeros((vocab_size, 300)) #each embedding vector is of length 300\n",
        "    # Iterate through word, index in the dictionary\n",
        "    for word, i in word_dict.items():\n",
        "       # use word from word_dict to search for its corresponding vector in embeddings\n",
        "        embedding_vector = embeddings_dict.get(word) \n",
        "        if embedding_vector is not None and len(embedding_vector)==300:\n",
        "            # Storing it in a matrix\n",
        "            embedding_matrix[i] = embedding_vector \n",
        "    return embedding_matrix,embeddings_dict,vocab_size\n",
        "\n",
        "embeddings,embeddings_dict,vocab_size = build_embeddings(word_to_int)\n",
        "embeddings2,embeddings2_dict,vocab_size2 = build_embeddings(word_to_int2) # embeddings for topics\n",
        "\n",
        "\n",
        "#Check that mappings look right\n",
        "#int_friday = word_to_int['friday']\n",
        "#Verify that the vectors for integer 7 are equal to those for 'Friday'\n",
        "#if list(embeddings[int_friday]) == list(embeddings_dict['friday']):\n",
        "#    print('True')\n",
        "#print('embedding_matrix for integer which corresponds to \"friday\"',embeddings[int_friday])\n",
        "#print('embedding_dict vector for \"friday\"',embeddings_dict['friday'])\n",
        "\n",
        "\n",
        "\n",
        "\n",
        "\n"
      ]
    },
    {
      "cell_type": "code",
      "execution_count": 11,
      "metadata": {
        "id": "9Vq4SEMHPAZE"
      },
      "outputs": [],
      "source": [
        "#build word dictionary based on word_index and \n",
        "#pass them into the padded sequences\n",
        "tokenizer = Tokenizer()\n",
        "tokenizer.fit_on_texts(dataset.tweet)\n",
        "word_index = tokenizer.word_index\n",
        "\n",
        "# Same procedure for topics\n",
        "#build word dictionary based on word_index and \n",
        "#pass them into the padded sequences\n",
        "tokenizer2 = Tokenizer()\n",
        "tokenizer2.fit_on_texts(dataset.topic)\n",
        "word_index2 = tokenizer2.word_index\n",
        "\n",
        "#print(word_index)\n",
        "#print(word_to_int)"
      ]
    },
    {
      "cell_type": "markdown",
      "metadata": {
        "id": "RWUzKos2KIRz"
      },
      "source": [
        "### **Split Data into features and target data**"
      ]
    },
    {
      "cell_type": "code",
      "execution_count": 12,
      "metadata": {
        "colab": {
          "base_uri": "https://localhost:8080/"
        },
        "id": "DSZzUWbiFi69",
        "outputId": "709bb975-d9d9-461e-db4b-fe02d7b6ae8a"
      },
      "outputs": [
        {
          "output_type": "stream",
          "name": "stdout",
          "text": [
            "y_train type <class 'numpy.ndarray'>\n",
            "y_val type <class 'numpy.ndarray'>\n",
            "X_a_train type <class 'numpy.ndarray'>\n",
            "X_a_train type <class 'numpy.ndarray'>\n",
            "X_b_train type <class 'numpy.ndarray'>\n",
            "X_a_train shape (6330, 60)\n",
            "X_a_val shape (2110, 60)\n",
            "X_a_test shape (2111, 60)\n",
            "X_b_train shape (6330, 60)\n",
            "X_b_val shape (2110, 60)\n",
            "X_b_test shape (2111, 60)\n",
            "y_train shape (6330, 1)\n",
            "y_val shape (2110, 1)\n",
            "y_test shape (2111, 1)\n"
          ]
        }
      ],
      "source": [
        "# Splitting the data into training and testing sets\n",
        "dataset = shuffle(dataset)\n",
        "\n",
        "# Split dataset \n",
        "X_a = dataset.tweet # feature a\n",
        "X_b = dataset.topic # feature b\n",
        "y = dataset.sentiment # target\n",
        "\n",
        "\n",
        "# New split statements\n",
        "X_a_train, X_a_test, X_b_train, X_b_test, y_train, y_test = train_test_split(X_a, X_b, y, test_size=0.2, random_state=1)\n",
        "X_a_train, X_a_val, X_b_train, X_b_val, y_train, y_val = train_test_split(X_a_train, X_b_train, y_train, test_size=0.25, random_state=1)\n",
        "\n",
        "\n",
        "\n",
        "# Create placeholders for padded sequences of chosen length \n",
        "X_a_train = pad_sequences(tokenizer.texts_to_sequences(X_a_train),maxlen = 60)\n",
        "X_a_val = pad_sequences(tokenizer.texts_to_sequences(X_a_val),maxlen = 60)\n",
        "X_a_test = pad_sequences(tokenizer.texts_to_sequences(X_a_test),maxlen = 60)\n",
        "\n",
        "X_b_train = pad_sequences(tokenizer.texts_to_sequences(X_b_train),maxlen = 60)\n",
        "X_b_val = pad_sequences(tokenizer.texts_to_sequences(X_b_val),maxlen = 60)\n",
        "X_b_test = pad_sequences(tokenizer.texts_to_sequences(X_b_test),maxlen = 60)\n",
        "\n",
        "\n",
        "\n",
        "# convert target data into arrays\n",
        "y_train = y_train.to_numpy()\n",
        "y_val = y_val.to_numpy()\n",
        "y_test = y_test.to_numpy()\n",
        "\n",
        "# reshape from 1D to 2D\n",
        "y_train = y_train.reshape(-1, 1)\n",
        "y_val = y_val.reshape(-1,1)\n",
        "y_test = y_test.reshape(-1,1)\n",
        "\n",
        "#General check for datatypes and shapes\n",
        "print(\"y_train type\",type(y_train))\n",
        "print(\"y_val type\",type(y_val))\n",
        "print(\"X_a_train type\",type(X_a_train))\n",
        "print(\"X_a_train type\",type(X_a_train))\n",
        "print(\"X_b_train type\",type(X_b_train))\n",
        "\n",
        "print('X_a_train shape',X_a_train.shape)\n",
        "print('X_a_val shape',X_a_val.shape)\n",
        "print('X_a_test shape',X_a_test.shape)\n",
        "\n",
        "print('X_b_train shape',X_b_train.shape)\n",
        "print('X_b_val shape',X_b_val.shape)\n",
        "print('X_b_test shape',X_b_test.shape)\n",
        "\n",
        "print('y_train shape',y_train.shape)\n",
        "print('y_val shape',y_val.shape)\n",
        "print('y_test shape',y_test.shape)\n",
        "\n",
        "\n"
      ]
    },
    {
      "cell_type": "code",
      "execution_count": 13,
      "metadata": {
        "colab": {
          "base_uri": "https://localhost:8080/"
        },
        "id": "N6zdDvGMgUhT",
        "outputId": "af67b6e9-3e0c-4700-c77c-82e40a7a8a67"
      },
      "outputs": [
        {
          "output_type": "stream",
          "name": "stdout",
          "text": [
            "WARNING:tensorflow:Layer lstm will not use cuDNN kernels since it doesn't meet the criteria. It will use a generic GPU kernel as fallback when running on GPU.\n",
            "WARNING:tensorflow:Layer lstm will not use cuDNN kernels since it doesn't meet the criteria. It will use a generic GPU kernel as fallback when running on GPU.\n",
            "WARNING:tensorflow:Layer lstm will not use cuDNN kernels since it doesn't meet the criteria. It will use a generic GPU kernel as fallback when running on GPU.\n",
            "Model: \"model\"\n",
            "__________________________________________________________________________________________________\n",
            " Layer (type)                   Output Shape         Param #     Connected to                     \n",
            "==================================================================================================\n",
            " input_1 (InputLayer)           [(None, 60)]         0           []                               \n",
            "                                                                                                  \n",
            " embedding (Embedding)          (None, 60, 300)      3880500     ['input_1[0][0]']                \n",
            "                                                                                                  \n",
            " spatial_dropout1d (SpatialDrop  (None, 60, 300)     0           ['embedding[0][0]']              \n",
            " out1D)                                                                                           \n",
            "                                                                                                  \n",
            " conv1d (Conv1D)                (None, 56, 64)       96064       ['spatial_dropout1d[0][0]']      \n",
            "                                                                                                  \n",
            " bidirectional (Bidirectional)  (None, 128)          66048       ['conv1d[0][0]']                 \n",
            "                                                                                                  \n",
            " dense (Dense)                  (None, 1024)         132096      ['bidirectional[0][0]']          \n",
            "                                                                                                  \n",
            " dropout (Dropout)              (None, 1024)         0           ['dense[0][0]']                  \n",
            "                                                                                                  \n",
            " dense_1 (Dense)                (None, 1024)         1049600     ['dropout[0][0]']                \n",
            "                                                                                                  \n",
            " input_2 (InputLayer)           [(None, 1)]          0           []                               \n",
            "                                                                                                  \n",
            " dense_2 (Dense)                (None, 2)            2050        ['dense_1[0][0]']                \n",
            "                                                                                                  \n",
            "==================================================================================================\n",
            "Total params: 5,226,358\n",
            "Trainable params: 5,226,358\n",
            "Non-trainable params: 0\n",
            "__________________________________________________________________________________________________\n"
          ]
        }
      ],
      "source": [
        "#Define the Bidirectional LSTM Model\n",
        "# Input layer \n",
        "embedding_layer = layers.Embedding(vocab_size,300,weights=[embeddings], input_length = 60)\n",
        "\n",
        "input_a = Input(shape=(60,), dtype='int32')\n",
        "input_b = Input(shape=(1,), dtype='int32')\n",
        "\n",
        "# Pass inputs to the embedding layer\n",
        "embedding_sequences = embedding_layer(input_a)\n",
        "# dropout and conv layers \n",
        "x = SpatialDropout1D(0.2)(embedding_sequences)\n",
        "x = Conv1D(64, 5, activation='relu')(x)\n",
        "# LSTM layer\n",
        "x = layers.Bidirectional(layers.LSTM(64, dropout=0.2, recurrent_dropout=0.2))(x)\n",
        "x = Dense(1024, activation='relu')(x) \n",
        "x = Dropout(0.5)(x)\n",
        "x = Dense(1024, activation='relu')(x)\n",
        "# Activation layer for final output\n",
        "outputs = Dense(2, activation='softmax')(x)  \n",
        "model = Model([input_a, input_b], outputs)\n",
        "model.summary()\n"
      ]
    },
    {
      "cell_type": "code",
      "execution_count": 14,
      "metadata": {
        "id": "oMXmH_-DpZ1X"
      },
      "outputs": [],
      "source": [
        "#previous loss function was binary_crossentropy\n",
        "model.compile(optimizer=Adam(learning_rate=0.0001), loss='sparse_categorical_crossentropy',metrics=['accuracy'])\n",
        "ReduceLROnPlateau = ReduceLROnPlateau(factor=0.1,min_lr = 0.01, monitor = 'val_loss',verbose = 1)\n"
      ]
    },
    {
      "cell_type": "markdown",
      "metadata": {
        "id": "e0s87RVgsSh6"
      },
      "source": [
        "### **Train the Model**"
      ]
    },
    {
      "cell_type": "code",
      "execution_count": 15,
      "metadata": {
        "colab": {
          "base_uri": "https://localhost:8080/"
        },
        "id": "zHUVou99pymw",
        "outputId": "8db49464-179a-4aab-a9c6-fef325ff6a93"
      },
      "outputs": [
        {
          "output_type": "stream",
          "name": "stdout",
          "text": [
            "Epoch 1/20\n",
            "WARNING:tensorflow:Model was constructed with shape (None, 1) for input KerasTensor(type_spec=TensorSpec(shape=(None, 1), dtype=tf.int32, name='input_2'), name='input_2', description=\"created by layer 'input_2'\"), but it was called on an input with incompatible shape (None, 60).\n",
            "WARNING:tensorflow:Model was constructed with shape (None, 1) for input KerasTensor(type_spec=TensorSpec(shape=(None, 1), dtype=tf.int32, name='input_2'), name='input_2', description=\"created by layer 'input_2'\"), but it was called on an input with incompatible shape (None, 60).\n",
            "127/127 [==============================] - ETA: 0s - loss: 0.8521 - accuracy: 0.7821WARNING:tensorflow:Model was constructed with shape (None, 1) for input KerasTensor(type_spec=TensorSpec(shape=(None, 1), dtype=tf.int32, name='input_2'), name='input_2', description=\"created by layer 'input_2'\"), but it was called on an input with incompatible shape (None, 60).\n",
            "127/127 [==============================] - 64s 454ms/step - loss: 0.8521 - accuracy: 0.7821 - val_loss: 0.4521 - val_accuracy: 0.8000 - lr: 1.0000e-04\n",
            "Epoch 2/20\n",
            "127/127 [==============================] - 57s 445ms/step - loss: 0.6440 - accuracy: 0.8180 - val_loss: 0.4013 - val_accuracy: 0.8246 - lr: 1.0000e-04\n",
            "Epoch 3/20\n",
            "127/127 [==============================] - 58s 454ms/step - loss: 0.5751 - accuracy: 0.8376 - val_loss: 0.3477 - val_accuracy: 0.8536 - lr: 1.0000e-04\n",
            "Epoch 4/20\n",
            "127/127 [==============================] - 57s 444ms/step - loss: 0.5283 - accuracy: 0.8559 - val_loss: 0.3984 - val_accuracy: 0.8299 - lr: 1.0000e-04\n",
            "Epoch 5/20\n",
            "127/127 [==============================] - 57s 452ms/step - loss: 0.4701 - accuracy: 0.8690 - val_loss: 0.3413 - val_accuracy: 0.8521 - lr: 1.0000e-04\n",
            "Epoch 6/20\n",
            "127/127 [==============================] - 57s 447ms/step - loss: 0.4318 - accuracy: 0.8836 - val_loss: 0.3674 - val_accuracy: 0.8427 - lr: 1.0000e-04\n",
            "Epoch 7/20\n",
            "127/127 [==============================] - 56s 443ms/step - loss: 0.4115 - accuracy: 0.8902 - val_loss: 0.3864 - val_accuracy: 0.8393 - lr: 1.0000e-04\n",
            "Epoch 8/20\n",
            "127/127 [==============================] - 57s 447ms/step - loss: 0.3620 - accuracy: 0.8967 - val_loss: 0.3745 - val_accuracy: 0.8431 - lr: 1.0000e-04\n",
            "Epoch 9/20\n",
            "127/127 [==============================] - 57s 452ms/step - loss: 0.3092 - accuracy: 0.9145 - val_loss: 0.3796 - val_accuracy: 0.8507 - lr: 1.0000e-04\n",
            "Epoch 10/20\n",
            "127/127 [==============================] - 57s 449ms/step - loss: 0.2906 - accuracy: 0.9166 - val_loss: 0.3849 - val_accuracy: 0.8450 - lr: 1.0000e-04\n",
            "Epoch 11/20\n",
            "127/127 [==============================] - 56s 442ms/step - loss: 0.2563 - accuracy: 0.9300 - val_loss: 0.3783 - val_accuracy: 0.8602 - lr: 1.0000e-04\n",
            "Epoch 12/20\n",
            "127/127 [==============================] - 58s 454ms/step - loss: 0.2314 - accuracy: 0.9332 - val_loss: 0.4071 - val_accuracy: 0.8479 - lr: 1.0000e-04\n",
            "Epoch 13/20\n",
            "127/127 [==============================] - 57s 452ms/step - loss: 0.2127 - accuracy: 0.9381 - val_loss: 0.4110 - val_accuracy: 0.8635 - lr: 1.0000e-04\n",
            "Epoch 14/20\n",
            "127/127 [==============================] - 58s 453ms/step - loss: 0.1871 - accuracy: 0.9485 - val_loss: 0.4142 - val_accuracy: 0.8711 - lr: 1.0000e-04\n",
            "Epoch 15/20\n",
            "127/127 [==============================] - 57s 452ms/step - loss: 0.1699 - accuracy: 0.9562 - val_loss: 0.4204 - val_accuracy: 0.8611 - lr: 1.0000e-04\n",
            "Epoch 16/20\n",
            "127/127 [==============================] - 58s 452ms/step - loss: 0.1496 - accuracy: 0.9603 - val_loss: 0.4331 - val_accuracy: 0.8692 - lr: 1.0000e-04\n",
            "Epoch 17/20\n",
            "127/127 [==============================] - 57s 448ms/step - loss: 0.1323 - accuracy: 0.9641 - val_loss: 0.4688 - val_accuracy: 0.8720 - lr: 1.0000e-04\n",
            "Epoch 18/20\n",
            "127/127 [==============================] - 57s 448ms/step - loss: 0.1378 - accuracy: 0.9629 - val_loss: 0.4461 - val_accuracy: 0.8701 - lr: 1.0000e-04\n",
            "Epoch 19/20\n",
            "127/127 [==============================] - 57s 450ms/step - loss: 0.1320 - accuracy: 0.9670 - val_loss: 0.4523 - val_accuracy: 0.8611 - lr: 1.0000e-04\n",
            "Epoch 20/20\n",
            "127/127 [==============================] - 57s 445ms/step - loss: 0.1177 - accuracy: 0.9698 - val_loss: 0.4617 - val_accuracy: 0.8626 - lr: 1.0000e-04\n"
          ]
        },
        {
          "output_type": "execute_result",
          "data": {
            "text/plain": [
              "<keras.callbacks.History at 0x7fd3c633b490>"
            ]
          },
          "metadata": {},
          "execution_count": 15
        }
      ],
      "source": [
        "class_weight = {0:3,1: 1.}\n",
        "model.fit([X_a_train,X_b_train], y_train, batch_size=50, epochs=20,\n",
        "          class_weight=class_weight,\n",
        "          validation_data=([X_a_val,X_b_val], y_val), callbacks=[ReduceLROnPlateau])"
      ]
    },
    {
      "cell_type": "code",
      "execution_count": 16,
      "metadata": {
        "id": "az3DwuQIBW_c",
        "colab": {
          "base_uri": "https://localhost:8080/"
        },
        "outputId": "62758ff4-96f9-4ca3-dad3-5f8e1078bf73"
      },
      "outputs": [
        {
          "output_type": "stream",
          "name": "stdout",
          "text": [
            "Evaluate on test data\n",
            "212/212 [==============================] - 6s 29ms/step - loss: 0.4532 - accuracy: 0.8655\n",
            "test loss, test acc: [0.45322176814079285, 0.8654665946960449]\n"
          ]
        }
      ],
      "source": [
        "print(\"Evaluate on test data\")\n",
        "results = model.evaluate([X_a_test,X_b_test], y_test, batch_size=10)\n",
        "print(\"test loss, test acc:\", results)\n"
      ]
    },
    {
      "cell_type": "code",
      "execution_count": 17,
      "metadata": {
        "id": "JmVTfDmQG4_m",
        "colab": {
          "base_uri": "https://localhost:8080/",
          "height": 482
        },
        "outputId": "99c8cd65-c02e-4741-ae21-fd6af781b272"
      },
      "outputs": [
        {
          "output_type": "stream",
          "name": "stdout",
          "text": [
            "WARNING:tensorflow:Model was constructed with shape (None, 1) for input KerasTensor(type_spec=TensorSpec(shape=(None, 1), dtype=tf.int32, name='input_2'), name='input_2', description=\"created by layer 'input_2'\"), but it was called on an input with incompatible shape (None, 60).\n",
            "              precision    recall  f1-score   support\n",
            "\n",
            "    negative       0.67      0.73      0.70       447\n",
            "    positive       0.93      0.90      0.91      1664\n",
            "\n",
            "    accuracy                           0.87      2111\n",
            "   macro avg       0.80      0.82      0.81      2111\n",
            "weighted avg       0.87      0.87      0.87      2111\n",
            "\n"
          ]
        },
        {
          "output_type": "display_data",
          "data": {
            "text/plain": [
              "<Figure size 288x288 with 2 Axes>"
            ],
            "image/png": "[encoded data removed]"
          },
          "metadata": {
            "needs_background": "light"
          }
        }
      ],
      "source": [
        "\n",
        "\n",
        "labels = {'negative':0,'positive':1}\n",
        "\n",
        "\n",
        "# Add test vector \"X_a_test\" with corresponding \"y_test\" to trained model \"model\"\n",
        "y_predicted = tensorflow.argmax(model.predict([X_a_test,X_b_test]), axis=1)\n",
        "\n",
        "# Confusion matrix\n",
        "cf = tensorflow.math.confusion_matrix(y_test, y_predicted)\n",
        "plt.matshow(cf, cmap='magma')\n",
        "plt.colorbar()\n",
        "plt.xticks(np.arange(len(labels)), labels=labels, rotation=90)\n",
        "plt.yticks(np.arange(len(labels)), labels=labels)\n",
        "plt.clim(0, None)\n",
        "\n",
        "# Report\n",
        "print(classification_report(y_test, y_predicted, target_names=labels))"
      ]
    }
  ],
  "metadata": {
    "colab": {
      "collapsed_sections": [],
      "name": "task_b.ipynb",
      "provenance": [],
      "authorship_tag": "ABX9TyOOgsT439gYJUCjege7JjXJ",
      "include_colab_link": true
    },
    "kernelspec": {
      "display_name": "Python 3",
      "name": "python3"
    },
    "language_info": {
      "name": "python"
    }
  },
  "nbformat": 4,
  "nbformat_minor": 0
}